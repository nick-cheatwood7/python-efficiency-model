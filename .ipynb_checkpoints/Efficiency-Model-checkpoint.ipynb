{
 "cells": [
  {
   "cell_type": "code",
   "execution_count": 43,
   "metadata": {},
   "outputs": [
    {
     "data": {
      "text/plain": [
       "(5076, 15)"
      ]
     },
     "execution_count": 43,
     "metadata": {},
     "output_type": "execute_result"
    }
   ],
   "source": [
    "# import the dataset\n",
    "import pandas as pd\n",
    "import numpy as np\n",
    "master = pd.read_csv('cars.csv')\n",
    "\n",
    "# Discard any categorical columns (can't easily be quantified)\n",
    "master.drop(columns=['Engine Information.Engine Type', 'Identification.ID', 'Identification.Model Year'], axis=1, inplace=True)\n",
    "\n",
    "master.shape"
   ]
  },
  {
   "cell_type": "code",
   "execution_count": 44,
   "metadata": {},
   "outputs": [
    {
     "data": {
      "text/html": [
       "<div>\n",
       "<style scoped>\n",
       "    .dataframe tbody tr th:only-of-type {\n",
       "        vertical-align: middle;\n",
       "    }\n",
       "\n",
       "    .dataframe tbody tr th {\n",
       "        vertical-align: top;\n",
       "    }\n",
       "\n",
       "    .dataframe thead th {\n",
       "        text-align: right;\n",
       "    }\n",
       "</style>\n",
       "<table border=\"1\" class=\"dataframe\">\n",
       "  <thead>\n",
       "    <tr style=\"text-align: right;\">\n",
       "      <th></th>\n",
       "      <th>height</th>\n",
       "      <th>length</th>\n",
       "      <th>width</th>\n",
       "      <th>Engine Information.Driveline</th>\n",
       "      <th>isHybrid</th>\n",
       "      <th>numberGears</th>\n",
       "      <th>Engine Information.Transmission</th>\n",
       "      <th>cityMpg</th>\n",
       "      <th>Fuel Information.Fuel Type</th>\n",
       "      <th>highwayMpg</th>\n",
       "      <th>Identification.Classification</th>\n",
       "      <th>Identification.Make</th>\n",
       "      <th>Identification.Year</th>\n",
       "      <th>horsepower</th>\n",
       "      <th>Engine Information.Engine Statistics.Torque</th>\n",
       "      <th>isCityEfficient</th>\n",
       "      <th>isHighwayEfficient</th>\n",
       "      <th>isCombinedEfficient</th>\n",
       "    </tr>\n",
       "  </thead>\n",
       "  <tbody>\n",
       "    <tr>\n",
       "      <th>5071</th>\n",
       "      <td>13</td>\n",
       "      <td>253</td>\n",
       "      <td>201</td>\n",
       "      <td>Front-wheel drive</td>\n",
       "      <td>True</td>\n",
       "      <td>5</td>\n",
       "      <td>5 Speed Automatic</td>\n",
       "      <td>18</td>\n",
       "      <td>Gasoline</td>\n",
       "      <td>25</td>\n",
       "      <td>Automatic transmission</td>\n",
       "      <td>Honda</td>\n",
       "      <td>2012</td>\n",
       "      <td>250</td>\n",
       "      <td>253</td>\n",
       "      <td>False</td>\n",
       "      <td>True</td>\n",
       "      <td>False</td>\n",
       "    </tr>\n",
       "    <tr>\n",
       "      <th>5072</th>\n",
       "      <td>141</td>\n",
       "      <td>249</td>\n",
       "      <td>108</td>\n",
       "      <td>All-wheel drive</td>\n",
       "      <td>True</td>\n",
       "      <td>6</td>\n",
       "      <td>6 Speed Manual</td>\n",
       "      <td>12</td>\n",
       "      <td>Gasoline</td>\n",
       "      <td>20</td>\n",
       "      <td>Manual transmission</td>\n",
       "      <td>Lamborghini</td>\n",
       "      <td>2012</td>\n",
       "      <td>552</td>\n",
       "      <td>398</td>\n",
       "      <td>False</td>\n",
       "      <td>False</td>\n",
       "      <td>False</td>\n",
       "    </tr>\n",
       "    <tr>\n",
       "      <th>5073</th>\n",
       "      <td>160</td>\n",
       "      <td>249</td>\n",
       "      <td>108</td>\n",
       "      <td>All-wheel drive</td>\n",
       "      <td>True</td>\n",
       "      <td>6</td>\n",
       "      <td>6 Speed Manual</td>\n",
       "      <td>12</td>\n",
       "      <td>Gasoline</td>\n",
       "      <td>20</td>\n",
       "      <td>Manual transmission</td>\n",
       "      <td>Lamborghini</td>\n",
       "      <td>2012</td>\n",
       "      <td>552</td>\n",
       "      <td>398</td>\n",
       "      <td>False</td>\n",
       "      <td>False</td>\n",
       "      <td>False</td>\n",
       "    </tr>\n",
       "    <tr>\n",
       "      <th>5074</th>\n",
       "      <td>200</td>\n",
       "      <td>210</td>\n",
       "      <td>110</td>\n",
       "      <td>Rear-wheel drive</td>\n",
       "      <td>True</td>\n",
       "      <td>6</td>\n",
       "      <td>6 Speed Automatic Select Shift</td>\n",
       "      <td>17</td>\n",
       "      <td>Gasoline</td>\n",
       "      <td>25</td>\n",
       "      <td>Automatic transmission</td>\n",
       "      <td>BMW</td>\n",
       "      <td>2012</td>\n",
       "      <td>315</td>\n",
       "      <td>330</td>\n",
       "      <td>False</td>\n",
       "      <td>True</td>\n",
       "      <td>False</td>\n",
       "    </tr>\n",
       "    <tr>\n",
       "      <th>5075</th>\n",
       "      <td>200</td>\n",
       "      <td>94</td>\n",
       "      <td>110</td>\n",
       "      <td>Rear-wheel drive</td>\n",
       "      <td>True</td>\n",
       "      <td>6</td>\n",
       "      <td>6 Speed Automatic Select Shift</td>\n",
       "      <td>17</td>\n",
       "      <td>Gasoline</td>\n",
       "      <td>25</td>\n",
       "      <td>Automatic transmission</td>\n",
       "      <td>BMW</td>\n",
       "      <td>2012</td>\n",
       "      <td>315</td>\n",
       "      <td>330</td>\n",
       "      <td>False</td>\n",
       "      <td>True</td>\n",
       "      <td>False</td>\n",
       "    </tr>\n",
       "  </tbody>\n",
       "</table>\n",
       "</div>"
      ],
      "text/plain": [
       "      height  length  width Engine Information.Driveline  isHybrid  \\\n",
       "5071      13     253    201            Front-wheel drive      True   \n",
       "5072     141     249    108              All-wheel drive      True   \n",
       "5073     160     249    108              All-wheel drive      True   \n",
       "5074     200     210    110             Rear-wheel drive      True   \n",
       "5075     200      94    110             Rear-wheel drive      True   \n",
       "\n",
       "      numberGears Engine Information.Transmission  cityMpg  \\\n",
       "5071            5               5 Speed Automatic       18   \n",
       "5072            6                  6 Speed Manual       12   \n",
       "5073            6                  6 Speed Manual       12   \n",
       "5074            6  6 Speed Automatic Select Shift       17   \n",
       "5075            6  6 Speed Automatic Select Shift       17   \n",
       "\n",
       "     Fuel Information.Fuel Type  highwayMpg Identification.Classification  \\\n",
       "5071                   Gasoline          25        Automatic transmission   \n",
       "5072                   Gasoline          20           Manual transmission   \n",
       "5073                   Gasoline          20           Manual transmission   \n",
       "5074                   Gasoline          25        Automatic transmission   \n",
       "5075                   Gasoline          25        Automatic transmission   \n",
       "\n",
       "     Identification.Make  Identification.Year  horsepower  \\\n",
       "5071               Honda                 2012         250   \n",
       "5072         Lamborghini                 2012         552   \n",
       "5073         Lamborghini                 2012         552   \n",
       "5074                 BMW                 2012         315   \n",
       "5075                 BMW                 2012         315   \n",
       "\n",
       "      Engine Information.Engine Statistics.Torque  isCityEfficient  \\\n",
       "5071                                          253            False   \n",
       "5072                                          398            False   \n",
       "5073                                          398            False   \n",
       "5074                                          330            False   \n",
       "5075                                          330            False   \n",
       "\n",
       "      isHighwayEfficient  isCombinedEfficient  \n",
       "5071                True                False  \n",
       "5072               False                False  \n",
       "5073               False                False  \n",
       "5074                True                False  \n",
       "5075                True                False  "
      ]
     },
     "execution_count": 44,
     "metadata": {},
     "output_type": "execute_result"
    }
   ],
   "source": [
    "# Add features to the data – is the car efficient or not?\n",
    "\n",
    "# Rename select keys more readable column names\n",
    "\n",
    "df = master.copy()\n",
    "\n",
    "df = df.rename(columns=\n",
    "                       {\n",
    "                            \"Fuel Information.City mpg\": \"cityMpg\",\n",
    "                            \"Fuel Information.Highway mpg\": \"highwayMpg\",\n",
    "                            \"Dimensions.Height\": \"height\",\n",
    "                            \"Dimensions.Length\": \"length\",\n",
    "                            \"Dimensions.Width\": \"width\",\n",
    "                            \"Engine Information.Engine Statistics.Horsepower\": \"horsepower\",\n",
    "                           \"Engine Information.Hybrid\": \"isHybrid\",\n",
    "                           \"Engine Information.Number of Forward Gears\": \"numberGears\"\n",
    "                       }\n",
    "                      )\n",
    "\n",
    "# Determine whether efficient or not\n",
    "df['isCityEfficient'] = df.apply(lambda row: (row['cityMpg'] >= 22), axis=1)\n",
    "df['isHighwayEfficient'] = df.apply(lambda row: (row['highwayMpg'] >= 22), axis=1)\n",
    "df['isCombinedEfficient'] = df.apply(lambda row: (row['isCityEfficient'] & row['isHighwayEfficient']) , axis=1)\n",
    "\n",
    "df.tail()"
   ]
  },
  {
   "cell_type": "code",
   "execution_count": 45,
   "metadata": {},
   "outputs": [
    {
     "data": {
      "text/html": [
       "<div>\n",
       "<style scoped>\n",
       "    .dataframe tbody tr th:only-of-type {\n",
       "        vertical-align: middle;\n",
       "    }\n",
       "\n",
       "    .dataframe tbody tr th {\n",
       "        vertical-align: top;\n",
       "    }\n",
       "\n",
       "    .dataframe thead th {\n",
       "        text-align: right;\n",
       "    }\n",
       "</style>\n",
       "<table border=\"1\" class=\"dataframe\">\n",
       "  <thead>\n",
       "    <tr style=\"text-align: right;\">\n",
       "      <th></th>\n",
       "      <th>height</th>\n",
       "      <th>length</th>\n",
       "      <th>width</th>\n",
       "      <th>isHybrid</th>\n",
       "      <th>numberGears</th>\n",
       "      <th>cityMpg</th>\n",
       "      <th>highwayMpg</th>\n",
       "      <th>horsepower</th>\n",
       "      <th>isCityEfficient</th>\n",
       "      <th>isHighwayEfficient</th>\n",
       "      <th>isCombinedEfficient</th>\n",
       "    </tr>\n",
       "  </thead>\n",
       "  <tbody>\n",
       "    <tr>\n",
       "      <th>5071</th>\n",
       "      <td>13</td>\n",
       "      <td>253</td>\n",
       "      <td>201</td>\n",
       "      <td>True</td>\n",
       "      <td>5</td>\n",
       "      <td>18</td>\n",
       "      <td>25</td>\n",
       "      <td>250</td>\n",
       "      <td>False</td>\n",
       "      <td>True</td>\n",
       "      <td>False</td>\n",
       "    </tr>\n",
       "    <tr>\n",
       "      <th>5072</th>\n",
       "      <td>141</td>\n",
       "      <td>249</td>\n",
       "      <td>108</td>\n",
       "      <td>True</td>\n",
       "      <td>6</td>\n",
       "      <td>12</td>\n",
       "      <td>20</td>\n",
       "      <td>552</td>\n",
       "      <td>False</td>\n",
       "      <td>False</td>\n",
       "      <td>False</td>\n",
       "    </tr>\n",
       "    <tr>\n",
       "      <th>5073</th>\n",
       "      <td>160</td>\n",
       "      <td>249</td>\n",
       "      <td>108</td>\n",
       "      <td>True</td>\n",
       "      <td>6</td>\n",
       "      <td>12</td>\n",
       "      <td>20</td>\n",
       "      <td>552</td>\n",
       "      <td>False</td>\n",
       "      <td>False</td>\n",
       "      <td>False</td>\n",
       "    </tr>\n",
       "    <tr>\n",
       "      <th>5074</th>\n",
       "      <td>200</td>\n",
       "      <td>210</td>\n",
       "      <td>110</td>\n",
       "      <td>True</td>\n",
       "      <td>6</td>\n",
       "      <td>17</td>\n",
       "      <td>25</td>\n",
       "      <td>315</td>\n",
       "      <td>False</td>\n",
       "      <td>True</td>\n",
       "      <td>False</td>\n",
       "    </tr>\n",
       "    <tr>\n",
       "      <th>5075</th>\n",
       "      <td>200</td>\n",
       "      <td>94</td>\n",
       "      <td>110</td>\n",
       "      <td>True</td>\n",
       "      <td>6</td>\n",
       "      <td>17</td>\n",
       "      <td>25</td>\n",
       "      <td>315</td>\n",
       "      <td>False</td>\n",
       "      <td>True</td>\n",
       "      <td>False</td>\n",
       "    </tr>\n",
       "  </tbody>\n",
       "</table>\n",
       "</div>"
      ],
      "text/plain": [
       "      height  length  width  isHybrid  numberGears  cityMpg  highwayMpg  \\\n",
       "5071      13     253    201      True            5       18          25   \n",
       "5072     141     249    108      True            6       12          20   \n",
       "5073     160     249    108      True            6       12          20   \n",
       "5074     200     210    110      True            6       17          25   \n",
       "5075     200      94    110      True            6       17          25   \n",
       "\n",
       "      horsepower  isCityEfficient  isHighwayEfficient  isCombinedEfficient  \n",
       "5071         250            False                True                False  \n",
       "5072         552            False               False                False  \n",
       "5073         552            False               False                False  \n",
       "5074         315            False                True                False  \n",
       "5075         315            False                True                False  "
      ]
     },
     "execution_count": 45,
     "metadata": {},
     "output_type": "execute_result"
    }
   ],
   "source": [
    "# Determine features to include in dataset\n",
    "\n",
    "# Remove any unneeded columns\n",
    "df = df.drop([\n",
    "    'Engine Information.Driveline',\n",
    "    'Engine Information.Transmission',\n",
    "    'Fuel Information.Fuel Type',\n",
    "    'Identification.Classification',\n",
    "    'Identification.Make',\n",
    "    'Identification.Year',\n",
    "    'Engine Information.Engine Statistics.Torque'\n",
    "    ], axis=1)\n",
    "\n",
    "dataset = df.copy()\n",
    "\n",
    "dataset.tail()"
   ]
  },
  {
   "cell_type": "code",
   "execution_count": 46,
   "metadata": {},
   "outputs": [],
   "source": [
    "# Split dataset into training and test set\n",
    "from sklearn.model_selection import train_test_split"
   ]
  },
  {
   "cell_type": "code",
   "execution_count": 47,
   "metadata": {},
   "outputs": [],
   "source": [
    "\n",
    "# Define our data and if they are efficient or not\n",
    "# Train based of both mpg ratings, horsepower, and number of gears\n",
    "data = dataset[['cityMpg', 'highwayMpg', 'horsepower', 'numberGears']].to_numpy()\n",
    "\n",
    "labels = dataset['isCombinedEfficient'].to_numpy()"
   ]
  },
  {
   "cell_type": "code",
   "execution_count": 48,
   "metadata": {},
   "outputs": [],
   "source": [
    "X_train, X_test, y_train, y_test = train_test_split(\n",
    "    data, \n",
    "    labels, \n",
    "    test_size=0.2,\n",
    "    random_state=42\n",
    ")"
   ]
  },
  {
   "cell_type": "code",
   "execution_count": 49,
   "metadata": {},
   "outputs": [
    {
     "data": {
      "text/plain": [
       "SGDClassifier(random_state=21)"
      ]
     },
     "execution_count": 49,
     "metadata": {},
     "output_type": "execute_result"
    }
   ],
   "source": [
    "from sklearn.linear_model import SGDClassifier\n",
    "sgd_clf = SGDClassifier(random_state = 21)\n",
    "\n",
    "sgd_clf.fit(X_train, y_train)"
   ]
  },
  {
   "cell_type": "code",
   "execution_count": 50,
   "metadata": {},
   "outputs": [
    {
     "data": {
      "text/plain": [
       "array([False])"
      ]
     },
     "execution_count": 50,
     "metadata": {},
     "output_type": "execute_result"
    }
   ],
   "source": [
    "_mpg = data[0]\n",
    "sgd_clf.predict([_mpg])"
   ]
  },
  {
   "cell_type": "code",
   "execution_count": 51,
   "metadata": {},
   "outputs": [
    {
     "data": {
      "text/plain": [
       "array([0.91358936, 0.93643755, 0.93939394])"
      ]
     },
     "execution_count": 51,
     "metadata": {},
     "output_type": "execute_result"
    }
   ],
   "source": [
    "# Run model on the test data\n",
    "from sklearn.model_selection import cross_val_score\n",
    "cross_val_score(sgd_clf, X_train, y_train, cv=3, scoring='accuracy')"
   ]
  },
  {
   "cell_type": "code",
   "execution_count": 52,
   "metadata": {},
   "outputs": [
    {
     "data": {
      "text/plain": [
       "array([ True, False, False, ..., False, False,  True])"
      ]
     },
     "execution_count": 52,
     "metadata": {},
     "output_type": "execute_result"
    }
   ],
   "source": [
    "# Evaluate model and make apporpriate changes\n",
    "from sklearn.model_selection import cross_val_predict\n",
    "\n",
    "labels_train_predict = cross_val_predict(sgd_clf, X_train, y_train, cv=3)\n",
    "\n",
    "labels_train_predict"
   ]
  },
  {
   "cell_type": "code",
   "execution_count": 53,
   "metadata": {},
   "outputs": [
    {
     "data": {
      "text/plain": [
       "0.9672897196261683"
      ]
     },
     "execution_count": 53,
     "metadata": {},
     "output_type": "execute_result"
    }
   ],
   "source": [
    "# Precision/Recall?\n",
    "\n",
    "from sklearn.metrics import precision_score, recall_score\n",
    "precision_score(y_train, labels_train_predict)"
   ]
  },
  {
   "cell_type": "code",
   "execution_count": 54,
   "metadata": {},
   "outputs": [
    {
     "data": {
      "text/plain": [
       "0.6043795620437956"
      ]
     },
     "execution_count": 54,
     "metadata": {},
     "output_type": "execute_result"
    }
   ],
   "source": [
    "recall_score(y_train, labels_train_predict)"
   ]
  },
  {
   "cell_type": "code",
   "execution_count": 55,
   "metadata": {},
   "outputs": [
    {
     "data": {
      "text/plain": [
       "0.7439353099730458"
      ]
     },
     "execution_count": 55,
     "metadata": {},
     "output_type": "execute_result"
    }
   ],
   "source": [
    "from sklearn.metrics import f1_score\n",
    "f1_score(y_train, labels_train_predict)"
   ]
  },
  {
   "cell_type": "code",
   "execution_count": 56,
   "metadata": {},
   "outputs": [
    {
     "data": {
      "text/plain": [
       "array([   768.23375126,  -4511.96179359, -15301.68876479, ...,\n",
       "        -5744.85449862,  -6381.12049478,   3534.45478393])"
      ]
     },
     "execution_count": 56,
     "metadata": {},
     "output_type": "execute_result"
    }
   ],
   "source": [
    "# Decide on the threshold\n",
    "labelsScores = cross_val_predict(sgd_clf, X_train, y_train, cv=3, method='decision_function')\n",
    "\n",
    "labelsScores"
   ]
  },
  {
   "cell_type": "code",
   "execution_count": 57,
   "metadata": {},
   "outputs": [],
   "source": [
    "# We can use theses cores with precision/recall to plot what the results would be with different thresholds\n",
    "from sklearn.metrics import precision_recall_curve\n",
    "precisions, recalls, thresholds = precision_recall_curve(y_train, labelsScores)"
   ]
  },
  {
   "cell_type": "code",
   "execution_count": 58,
   "metadata": {},
   "outputs": [
    {
     "data": {
      "image/png": "[encoded data removed]",
      "text/plain": [
       "<Figure size 432x288 with 1 Axes>"
      ]
     },
     "metadata": {
      "needs_background": "light"
     },
     "output_type": "display_data"
    }
   ],
   "source": [
    "# Plot\n",
    "\n",
    "import matplotlib as mpl\n",
    "import matplotlib.pyplot as plt\n",
    "\n",
    "def plotPrecisionRecallThreshold(pre, rec, thr):\n",
    "    plt.plot(thr, pre[:-1], 'b--', label='Precision')\n",
    "    plt.plot(thr, rec[:-1], 'g-', label='Recall')\n",
    "    plt.grid()\n",
    "    plt.xlabel('Threshold')\n",
    "    plt.legend()\n",
    "    plt.axis([-5000,5000,0,1])\n",
    "    \n",
    "plotPrecisionRecallThreshold(precisions, recalls, thresholds)\n",
    "plt.show()"
   ]
  },
  {
   "cell_type": "code",
   "execution_count": 59,
   "metadata": {},
   "outputs": [
    {
     "data": {
      "image/png": "[encoded data removed]",
      "text/plain": [
       "<Figure size 432x288 with 1 Axes>"
      ]
     },
     "metadata": {
      "needs_background": "light"
     },
     "output_type": "display_data"
    }
   ],
   "source": [
    "plt.plot(precisions, recalls)\n",
    "plt.xlabel('Recall')\n",
    "plt.ylabel('Precision')\n",
    "plt.show()"
   ]
  },
  {
   "cell_type": "code",
   "execution_count": 60,
   "metadata": {},
   "outputs": [
    {
     "data": {
      "text/plain": [
       "-663.1249717147463"
      ]
     },
     "execution_count": 60,
     "metadata": {},
     "output_type": "execute_result"
    }
   ],
   "source": [
    "# Want 91% precision\n",
    "threshold91Precision = thresholds[np.argmax(precisions>=.91)]\n",
    "threshold91Precision"
   ]
  },
  {
   "cell_type": "code",
   "execution_count": 61,
   "metadata": {},
   "outputs": [
    {
     "data": {
      "text/plain": [
       "array([ True, False, False, ..., False, False,  True])"
      ]
     },
     "execution_count": 61,
     "metadata": {},
     "output_type": "execute_result"
    }
   ],
   "source": [
    "labelsTrainPred91 = (labelsScores >= threshold91Precision)\n",
    "labelsTrainPred91"
   ]
  },
  {
   "cell_type": "code",
   "execution_count": 62,
   "metadata": {},
   "outputs": [
    {
     "data": {
      "text/plain": [
       "0.91005291005291"
      ]
     },
     "execution_count": 62,
     "metadata": {},
     "output_type": "execute_result"
    }
   ],
   "source": [
    "precision_score(y_train, labelsTrainPred91)"
   ]
  },
  {
   "cell_type": "code",
   "execution_count": 63,
   "metadata": {},
   "outputs": [
    {
     "data": {
      "text/plain": [
       "0.7532846715328467"
      ]
     },
     "execution_count": 63,
     "metadata": {},
     "output_type": "execute_result"
    }
   ],
   "source": [
    "recall_score(y_train, labelsTrainPred91)"
   ]
  },
  {
   "cell_type": "code",
   "execution_count": null,
   "metadata": {},
   "outputs": [],
   "source": []
  }
 ],
 "metadata": {
  "kernelspec": {
   "display_name": "Python 3",
   "language": "python",
   "name": "python3"
  },
  "language_info": {
   "codemirror_mode": {
    "name": "ipython",
    "version": 3
   },
   "file_extension": ".py",
   "mimetype": "text/x-python",
   "name": "python",
   "nbconvert_exporter": "python",
   "pygments_lexer": "ipython3",
   "version": "3.8.5"
  }
 },
 "nbformat": 4,
 "nbformat_minor": 4
}
